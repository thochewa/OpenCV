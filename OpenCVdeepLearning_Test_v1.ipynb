{
 "cells": [
  {
   "cell_type": "markdown",
   "metadata": {},
   "source": [
    "## Testing OpenCV's DeepLearning Module with pre-trained GoogleNet\n",
    "###### v20180822\n",
    "* Implementation with pretrained Standard GoogleNet"
   ]
  },
  {
   "cell_type": "code",
   "execution_count": 9,
   "metadata": {},
   "outputs": [],
   "source": [
    "%reload_ext autoreload\n",
    "%autoreload 2\n",
    "%matplotlib inline"
   ]
  },
  {
   "cell_type": "code",
   "execution_count": 10,
   "metadata": {},
   "outputs": [],
   "source": [
    "# import the necessary packages\n",
    "import numpy as np\n",
    "import time\n",
    "import cv2\n",
    "from pathlib import Path"
   ]
  },
  {
   "cell_type": "code",
   "execution_count": 14,
   "metadata": {},
   "outputs": [],
   "source": [
    "# Set PATH if other than home directory\n",
    "PATH = Path('')"
   ]
  },
  {
   "cell_type": "code",
   "execution_count": 25,
   "metadata": {},
   "outputs": [
    {
     "name": "stdout",
     "output_type": "stream",
     "text": [
      "211.88758157389634\n"
     ]
    }
   ],
   "source": [
    "# load the input image from disk\n",
    "image = cv2.imread('b.jpg')\n",
    "print(image.mean())"
   ]
  },
  {
   "cell_type": "code",
   "execution_count": 16,
   "metadata": {},
   "outputs": [],
   "source": [
    "# load the class labels from disk\n",
    "rows = open(\"synset_words_raw.txt\").read().strip().split(\"\\n\")\n",
    "classes = [r[r.find(\" \") + 1:].split(\",\")[0] for r in rows]"
   ]
  },
  {
   "cell_type": "code",
   "execution_count": 31,
   "metadata": {},
   "outputs": [
    {
     "name": "stdout",
     "output_type": "stream",
     "text": [
      "(1, 3, 224, 224)\n"
     ]
    }
   ],
   "source": [
    "## Input Normalization\n",
    "# - resizing to 224x224 pixels while\n",
    "# - mean subtraction (104, 117, 123)\n",
    "blob = cv2.dnn.blobFromImage(image, 1, (224, 224), (104, 117, 123))\n",
    "print(blob.shape)"
   ]
  },
  {
   "cell_type": "code",
   "execution_count": 32,
   "metadata": {},
   "outputs": [
    {
     "name": "stdout",
     "output_type": "stream",
     "text": [
      "[INFO] model is loaded\n"
     ]
    }
   ],
   "source": [
    "# load our serialized model from disk\n",
    "net = cv2.dnn.readNetFromCaffe(\"deployGN.prototxt\", \"bvlc_googlenet.caffemodel\")\n",
    "print(\"[INFO] model is loaded\")"
   ]
  },
  {
   "cell_type": "code",
   "execution_count": 33,
   "metadata": {},
   "outputs": [
    {
     "name": "stdout",
     "output_type": "stream",
     "text": [
      "[INFO] classification took 0.093734 seconds\n"
     ]
    }
   ],
   "source": [
    "# set the blob as input to the network and perform a forward-pass to\n",
    "# obtain our output classification\n",
    "net.setInput(blob)\n",
    "start = time.time()\n",
    "preds = net.forward()\n",
    "end = time.time()\n",
    "print(\"[INFO] classification took {:.5} seconds\".format(end - start))"
   ]
  },
  {
   "cell_type": "code",
   "execution_count": 34,
   "metadata": {},
   "outputs": [
    {
     "name": "stdout",
     "output_type": "stream",
     "text": [
      "[309 308 749 319 320]\n"
     ]
    }
   ],
   "source": [
    "# sort the indexes of the probabilities in descending order\n",
    "# and grab the top-5 predictions\n",
    "idxs = np.argsort(preds[0])[::-1][:5]\n",
    "print(idxs)"
   ]
  },
  {
   "cell_type": "code",
   "execution_count": 35,
   "metadata": {
    "scrolled": true
   },
   "outputs": [
    {
     "name": "stdout",
     "output_type": "stream",
     "text": [
      "[INFO] 1. label: bee, probability: 0.61671\n",
      "[INFO] 2. label: fly, probability: 0.20969\n",
      "[INFO] 3. label: quill, probability: 0.059565\n",
      "[INFO] 4. label: dragonfly, probability: 0.049366\n",
      "[INFO] 5. label: damselfly, probability: 0.029728\n"
     ]
    }
   ],
   "source": [
    "# loop over the top-5 predictions and display them\n",
    "for (i, idx) in enumerate(idxs):\n",
    "    # draw the top prediction on the input image\n",
    "    if i == 0:\n",
    "        text = \"Label: {}, {:.2f}%\".format(classes[idx],\n",
    "                                           preds[0][idx] * 100)\n",
    "        cv2.putText(image, text, (5, 25), cv2.FONT_HERSHEY_SIMPLEX,\n",
    "                    0.7, (0, 0, 255), 2)\n",
    "        \n",
    "    # display the predicted label + associated probability to the\n",
    "    # console\n",
    "    print(\"[INFO] {}. label: {}, probability: {:.5}\".format(i + 1,\n",
    "                                                            classes[idx], preds[0][idx]))"
   ]
  },
  {
   "cell_type": "code",
   "execution_count": 36,
   "metadata": {},
   "outputs": [],
   "source": [
    "cv2.imshow('image',image)"
   ]
  },
  {
   "cell_type": "code",
   "execution_count": 37,
   "metadata": {},
   "outputs": [
    {
     "data": {
      "text/plain": [
       "-1"
      ]
     },
     "execution_count": 37,
     "metadata": {},
     "output_type": "execute_result"
    }
   ],
   "source": [
    "cv2.waitKey(0)"
   ]
  },
  {
   "cell_type": "code",
   "execution_count": null,
   "metadata": {},
   "outputs": [],
   "source": []
  }
 ],
 "metadata": {
  "kernelspec": {
   "display_name": "Python 3",
   "language": "python",
   "name": "python3"
  }
 },
 "nbformat": 4,
 "nbformat_minor": 2
}
